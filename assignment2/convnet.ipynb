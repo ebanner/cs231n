{
 "cells": [
  {
   "cell_type": "markdown",
   "metadata": {},
   "source": [
    "# Train a ConvNet!\n",
    "We now have a generic solver and a bunch of modularized layers. It's time to put it all together, and train a ConvNet to recognize the classes in CIFAR-10. In this notebook we will walk you through training a simple two-layer ConvNet and then set you free to build the best net that you can to perform well on CIFAR-10.\n",
    "\n",
    "Open up the file `cs231n/classifiers/convnet.py`; you will see that the `two_layer_convnet` function computes the loss and gradients for a two-layer ConvNet. Note that this function uses the \"sandwich\" layers defined in `cs231n/layer_utils.py`. "
   ]
  },
  {
   "cell_type": "code",
   "execution_count": 1,
   "metadata": {
    "collapsed": false
   },
   "outputs": [],
   "source": [
    "# As usual, a bit of setup\n",
    "\n",
    "import numpy as np\n",
    "import matplotlib.pyplot as plt\n",
    "from cs231n.classifier_trainer import ClassifierTrainer\n",
    "from cs231n.gradient_check import eval_numerical_gradient\n",
    "from cs231n.classifiers.convnet import *\n",
    "\n",
    "%matplotlib inline\n",
    "plt.rcParams['figure.figsize'] = (10.0, 8.0) # set default size of plots\n",
    "plt.rcParams['image.interpolation'] = 'nearest'\n",
    "plt.rcParams['image.cmap'] = 'gray'\n",
    "\n",
    "# for auto-reloading external modules\n",
    "# see http://stackoverflow.com/questions/1907993/autoreload-of-modules-in-ipython\n",
    "%load_ext autoreload\n",
    "%autoreload 2\n",
    "\n",
    "def rel_error(x, y):\n",
    "  \"\"\" returns relative error \"\"\"\n",
    "  return np.max(np.abs(x - y) / (np.maximum(1e-8, np.abs(x) + np.abs(y))))"
   ]
  },
  {
   "cell_type": "code",
   "execution_count": 2,
   "metadata": {
    "collapsed": false
   },
   "outputs": [
    {
     "name": "stdout",
     "output_type": "stream",
     "text": [
      "Train data shape:  (49000, 3, 32, 32)\n",
      "Train labels shape:  (49000,)\n",
      "Validation data shape:  (1000, 3, 32, 32)\n",
      "Validation labels shape:  (1000,)\n",
      "Test data shape:  (1000, 32, 32, 3)\n",
      "Test labels shape:  (1000,)\n"
     ]
    }
   ],
   "source": [
    "from cs231n.data_utils import load_CIFAR10\n",
    "\n",
    "def get_CIFAR10_data(num_training=49000, num_validation=1000, num_test=1000):\n",
    "    \"\"\"\n",
    "    Load the CIFAR-10 dataset from disk and perform preprocessing to prepare\n",
    "    it for the two-layer neural net classifier. These are the same steps as\n",
    "    we used for the SVM, but condensed to a single function.  \n",
    "    \"\"\"\n",
    "    # Load the raw CIFAR-10 data\n",
    "    cifar10_dir = 'cs231n/datasets/cifar-10-batches-py'\n",
    "    X_train, y_train, X_test, y_test = load_CIFAR10(cifar10_dir)\n",
    "        \n",
    "    # Subsample the data\n",
    "    mask = range(num_training, num_training + num_validation)\n",
    "    X_val = X_train[mask]\n",
    "    y_val = y_train[mask]\n",
    "    mask = range(num_training)\n",
    "    X_train = X_train[mask]\n",
    "    y_train = y_train[mask]\n",
    "    mask = range(num_test)\n",
    "    X_test = X_test[mask]\n",
    "    y_test = y_test[mask]\n",
    "\n",
    "    # Normalize the data: subtract the mean image\n",
    "    mean_image = np.mean(X_train, axis=0)\n",
    "    X_train -= mean_image\n",
    "    X_val -= mean_image\n",
    "    X_test -= mean_image\n",
    "    \n",
    "    # Transpose so that channels come first\n",
    "    X_train = X_train.transpose(0, 3, 1, 2).copy()\n",
    "    X_val = X_val.transpose(0, 3, 1, 2).copy()\n",
    "    x_test = X_test.transpose(0, 3, 1, 2).copy()\n",
    "\n",
    "    return X_train, y_train, X_val, y_val, X_test, y_test\n",
    "\n",
    "\n",
    "# Invoke the above function to get our data.\n",
    "X_train, y_train, X_val, y_val, X_test, y_test = get_CIFAR10_data()\n",
    "print 'Train data shape: ', X_train.shape\n",
    "print 'Train labels shape: ', y_train.shape\n",
    "print 'Validation data shape: ', X_val.shape\n",
    "print 'Validation labels shape: ', y_val.shape\n",
    "print 'Test data shape: ', X_test.shape\n",
    "print 'Test labels shape: ', y_test.shape"
   ]
  },
  {
   "cell_type": "markdown",
   "metadata": {},
   "source": [
    "# Sanity check loss\n",
    "After you build a new network, one of the first things you should do is sanity check the loss. When we use the softmax loss, we expect the loss for random weights (and no regularization) to be about `log(C)` for `C` classes. When we add regularization this should go up."
   ]
  },
  {
   "cell_type": "code",
   "execution_count": 3,
   "metadata": {
    "collapsed": false
   },
   "outputs": [
    {
     "name": "stdout",
     "output_type": "stream",
     "text": [
      "Sanity check loss (no regularization):  2.30257276272\n",
      "Sanity check loss (with regularization):  2.34474911679\n"
     ]
    }
   ],
   "source": [
    "model = init_two_layer_convnet()\n",
    "\n",
    "X = np.random.randn(100, 3, 32, 32)\n",
    "y = np.random.randint(10, size=100)\n",
    "\n",
    "loss, _ = two_layer_convnet(X, model, y, reg=0)\n",
    "\n",
    "# Sanity check: Loss should be about log(10) = 2.3026\n",
    "print 'Sanity check loss (no regularization): ', loss\n",
    "\n",
    "# Sanity check: Loss should go up when you add regularization\n",
    "loss, _ = two_layer_convnet(X, model, y, reg=1)\n",
    "print 'Sanity check loss (with regularization): ', loss"
   ]
  },
  {
   "cell_type": "markdown",
   "metadata": {},
   "source": [
    "# Gradient check\n",
    "After the loss looks reasonable, you should always use numeric gradient checking to make sure that your backward pass is correct. When you use numeric gradient checking you should use a small amount of artifical data and a small number of neurons at each layer."
   ]
  },
  {
   "cell_type": "code",
   "execution_count": 4,
   "metadata": {
    "collapsed": false
   },
   "outputs": [
    {
     "name": "stdout",
     "output_type": "stream",
     "text": [
      "W1 max relative error: 2.745593e-06\n",
      "W2 max relative error: 6.640441e-05\n",
      "b1 max relative error: 9.050943e-07\n",
      "b2 max relative error: 1.101427e-09\n"
     ]
    }
   ],
   "source": [
    "num_inputs = 2\n",
    "input_shape = (3, 16, 16)\n",
    "reg = 0.0\n",
    "num_classes = 10\n",
    "X = np.random.randn(num_inputs, *input_shape)\n",
    "y = np.random.randint(num_classes, size=num_inputs)\n",
    "\n",
    "model = init_two_layer_convnet(num_filters=3, filter_size=3, input_shape=input_shape)\n",
    "loss, grads = two_layer_convnet(X, model, y)\n",
    "for param_name in sorted(grads):\n",
    "    f = lambda _: two_layer_convnet(X, model, y)[0]\n",
    "    param_grad_num = eval_numerical_gradient(f, model[param_name], verbose=False, h=1e-6)\n",
    "    e = rel_error(param_grad_num, grads[param_name])\n",
    "    print '%s max relative error: %e' % (param_name, rel_error(param_grad_num, grads[param_name]))"
   ]
  },
  {
   "cell_type": "markdown",
   "metadata": {},
   "source": [
    "# Overfit small data\n",
    "A nice trick is to train your model with just a few training samples. You should be able to overfit small datasets, which will result in very high training accuracy and comparatively low validation accuracy."
   ]
  },
  {
   "cell_type": "code",
   "execution_count": 10,
   "metadata": {
    "collapsed": false
   },
   "outputs": [
    {
     "name": "stdout",
     "output_type": "stream",
     "text": [
      "starting iteration  0\n",
      "Finished epoch 0 / 10: cost 2.345553, train: 0.160000, val 0.096000, lr 1.000000e-04\n",
      "Finished epoch 1 / 10: cost 2.291490, train: 0.120000, val 0.116000, lr 9.500000e-05\n",
      "Finished epoch 2 / 10: cost 1.695178, train: 0.300000, val 0.100000, lr 9.025000e-05\n",
      "starting iteration  10\n",
      "Finished epoch 3 / 10: cost 1.821535, train: 0.420000, val 0.152000, lr 8.573750e-05\n",
      "Finished epoch 4 / 10: cost 1.134230, train: 0.600000, val 0.192000, lr 8.145062e-05\n",
      "starting iteration  20\n",
      "Finished epoch 5 / 10: cost 0.468984, train: 0.740000, val 0.167000, lr 7.737809e-05\n",
      "Finished epoch 6 / 10: cost 0.616977, train: 0.760000, val 0.152000, lr 7.350919e-05\n",
      "starting iteration  30\n",
      "Finished epoch 7 / 10: cost 0.466049, train: 0.800000, val 0.140000, lr 6.983373e-05\n",
      "Finished epoch 8 / 10: cost 0.234386, train: 0.900000, val 0.165000, lr 6.634204e-05\n",
      "starting iteration  40\n",
      "Finished epoch 9 / 10: cost 0.501865, train: 0.880000, val 0.185000, lr 6.302494e-05\n",
      "Finished epoch 10 / 10: cost 0.142477, train: 0.880000, val 0.180000, lr 5.987369e-05\n",
      "finished optimization. best validation accuracy: 0.192000\n"
     ]
    }
   ],
   "source": [
    "# Use a two-layer ConvNet to overfit 50 training examples.\n",
    "\n",
    "model = init_two_layer_convnet()\n",
    "trainer = ClassifierTrainer()\n",
    "best_model, loss_history, train_acc_history, val_acc_history = trainer.train(\n",
    "          X_train[:50], y_train[:50], X_val, y_val, model, two_layer_convnet,\n",
    "          reg=0.001, momentum=0.9, learning_rate=0.0001, batch_size=10, num_epochs=10,\n",
    "          verbose=True)"
   ]
  },
  {
   "cell_type": "markdown",
   "metadata": {},
   "source": [
    "Plotting the loss, training accuracy, and validation accuracy should show clear overfitting:"
   ]
  },
  {
   "cell_type": "code",
   "execution_count": 11,
   "metadata": {
    "collapsed": false
   },
   "outputs": [
    {
     "data": {
      "image/png": "[encoded data removed]",
      "text/plain": [
       "<matplotlib.figure.Figure at 0x7f8ab98da2d0>"
      ]
     },
     "metadata": {},
     "output_type": "display_data"
    }
   ],
   "source": [
    "plt.subplot(2, 1, 1)\n",
    "plt.plot(loss_history)\n",
    "plt.xlabel('iteration')\n",
    "plt.ylabel('loss')\n",
    "\n",
    "plt.subplot(2, 1, 2)\n",
    "plt.plot(train_acc_history)\n",
    "plt.plot(val_acc_history)\n",
    "plt.legend(['train', 'val'], loc='upper left')\n",
    "plt.xlabel('epoch')\n",
    "plt.ylabel('accuracy')\n",
    "plt.show()"
   ]
  },
  {
   "cell_type": "markdown",
   "metadata": {},
   "source": [
    "# Train the net\n",
    "Once the above works, training the net is the next thing to try. You can set the `acc_frequency` parameter to change the frequency at which the training and validation set accuracies are tested. If your parameters are set properly, you should see the training and validation accuracy start to improve within a hundred iterations, and you should be able to train a reasonable model with just one epoch.\n",
    "\n",
    "Using the parameters below you should be able to get around 50% accuracy on the validation set."
   ]
  },
  {
   "cell_type": "code",
   "execution_count": 12,
   "metadata": {
    "collapsed": false,
    "scrolled": true
   },
   "outputs": [
    {
     "name": "stdout",
     "output_type": "stream",
     "text": [
      "starting iteration  0\n",
      "Finished epoch 0 / 1: cost 2.297698, train: 0.118000, val 0.110000, lr 1.000000e-04\n",
      "starting iteration  10\n",
      "starting iteration  20\n",
      "starting iteration  30\n",
      "starting iteration  40\n",
      "starting iteration  50\n",
      "Finished epoch 0 / 1: cost 1.914875, train: 0.306000, val 0.332000, lr 1.000000e-04\n",
      "starting iteration  60\n",
      "starting iteration  70\n",
      "starting iteration  80\n",
      "starting iteration  90\n",
      "starting iteration  100\n",
      "Finished epoch 0 / 1: cost 1.876027, train: 0.367000, val 0.370000, lr 1.000000e-04\n",
      "starting iteration  110\n",
      "starting iteration  120\n",
      "starting iteration  130\n",
      "starting iteration  140\n",
      "starting iteration  150\n",
      "Finished epoch 0 / 1: cost 1.570619, train: 0.419000, val 0.426000, lr 1.000000e-04\n",
      "starting iteration  160\n",
      "starting iteration  170\n",
      "starting iteration  180\n",
      "starting iteration  190\n",
      "starting iteration  200\n",
      "Finished epoch 0 / 1: cost 1.916984, train: 0.382000, val 0.401000, lr 1.000000e-04\n",
      "starting iteration  210\n",
      "starting iteration  220\n",
      "starting iteration  230\n",
      "starting iteration  240\n",
      "starting iteration  250\n",
      "Finished epoch 0 / 1: cost 1.490216, train: 0.392000, val 0.427000, lr 1.000000e-04\n",
      "starting iteration  260\n",
      "starting iteration  270\n",
      "starting iteration  280\n",
      "starting iteration  290\n",
      "starting iteration  300\n",
      "Finished epoch 0 / 1: cost 1.522222, train: 0.423000, val 0.412000, lr 1.000000e-04\n",
      "starting iteration  310\n",
      "starting iteration  320\n",
      "starting iteration  330\n",
      "starting iteration  340\n",
      "starting iteration  350\n",
      "Finished epoch 0 / 1: cost 1.903159, train: 0.385000, val 0.366000, lr 1.000000e-04\n",
      "starting iteration  360\n",
      "starting iteration  370\n",
      "starting iteration  380\n",
      "starting iteration  390\n",
      "starting iteration  400\n",
      "Finished epoch 0 / 1: cost 1.872184, train: 0.479000, val 0.477000, lr 1.000000e-04\n",
      "starting iteration  410\n",
      "starting iteration  420\n",
      "starting iteration  430\n",
      "starting iteration  440\n",
      "starting iteration  450\n",
      "Finished epoch 0 / 1: cost 1.692106, train: 0.459000, val 0.448000, lr 1.000000e-04\n",
      "starting iteration  460\n",
      "starting iteration  470\n",
      "starting iteration  480\n",
      "starting iteration  490\n",
      "starting iteration  500\n",
      "Finished epoch 0 / 1: cost 1.624420, train: 0.470000, val 0.482000, lr 1.000000e-04\n",
      "starting iteration  510\n",
      "starting iteration  520\n",
      "starting iteration  530\n",
      "starting iteration  540\n",
      "starting iteration  550\n",
      "Finished epoch 0 / 1: cost 1.450644, train: 0.457000, val 0.429000, lr 1.000000e-04\n",
      "starting iteration  560\n",
      "starting iteration  570\n",
      "starting iteration  580\n",
      "starting iteration  590\n",
      "starting iteration  600\n",
      "Finished epoch 0 / 1: cost 1.255093, train: 0.471000, val 0.459000, lr 1.000000e-04\n",
      "starting iteration  610\n",
      "starting iteration  620\n",
      "starting iteration  630\n",
      "starting iteration  640\n",
      "starting iteration  650\n",
      "Finished epoch 0 / 1: cost 1.790951, train: 0.489000, val 0.496000, lr 1.000000e-04\n",
      "starting iteration  660\n",
      "starting iteration  670\n",
      "starting iteration  680\n",
      "starting iteration  690\n",
      "starting iteration  700\n",
      "Finished epoch 0 / 1: cost 1.912653, train: 0.519000, val 0.514000, lr 1.000000e-04\n",
      "starting iteration  710\n",
      "starting iteration  720\n",
      "starting iteration  730\n",
      "starting iteration  740\n",
      "starting iteration  750\n",
      "Finished epoch 0 / 1: cost 1.899575, train: 0.496000, val 0.478000, lr 1.000000e-04\n",
      "starting iteration  760\n",
      "starting iteration  770\n",
      "starting iteration  780\n",
      "starting iteration  790\n",
      "starting iteration  800\n",
      "Finished epoch 0 / 1: cost 1.387215, train: 0.473000, val 0.487000, lr 1.000000e-04\n",
      "starting iteration  810\n",
      "starting iteration  820\n",
      "starting iteration  830\n",
      "starting iteration  840\n",
      "starting iteration  850\n",
      "Finished epoch 0 / 1: cost 1.834385, train: 0.439000, val 0.448000, lr 1.000000e-04\n",
      "starting iteration  860\n",
      "starting iteration  870\n",
      "starting iteration  880\n",
      "starting iteration  890\n",
      "starting iteration  900\n",
      "Finished epoch 0 / 1: cost 1.312356, train: 0.476000, val 0.434000, lr 1.000000e-04\n",
      "starting iteration  910\n",
      "starting iteration  920\n",
      "starting iteration  930\n",
      "starting iteration  940\n",
      "starting iteration  950\n",
      "Finished epoch 0 / 1: cost 2.208633, train: 0.488000, val 0.481000, lr 1.000000e-04\n",
      "starting iteration  960\n",
      "starting iteration  970\n",
      "Finished epoch 1 / 1: cost 1.449508, train: 0.470000, val 0.488000, lr 9.500000e-05\n",
      "finished optimization. best validation accuracy: 0.514000\n"
     ]
    }
   ],
   "source": [
    "model = init_two_layer_convnet(filter_size=7)\n",
    "trainer = ClassifierTrainer()\n",
    "best_model, loss_history, train_acc_history, val_acc_history = trainer.train(\n",
    "          X_train, y_train, X_val, y_val, model, two_layer_convnet,\n",
    "          reg=0.001, momentum=0.9, learning_rate=0.0001, batch_size=50, num_epochs=1,\n",
    "          acc_frequency=50, verbose=True)"
   ]
  },
  {
   "cell_type": "markdown",
   "metadata": {},
   "source": [
    "# Visualize weights\n",
    "We can visualize the convolutional weights from the first layer. If everything worked properly, these will usually be edges and blobs of various colors and orientations."
   ]
  },
  {
   "cell_type": "code",
   "execution_count": 13,
   "metadata": {
    "collapsed": false
   },
   "outputs": [
    {
     "data": {
      "text/plain": [
       "<matplotlib.image.AxesImage at 0x7f8ab96a8910>"
      ]
     },
     "execution_count": 13,
     "metadata": {},
     "output_type": "execute_result"
    },
    {
     "data": {
      "image/png": "[encoded data removed]",
      "text/plain": [
       "<matplotlib.figure.Figure at 0x7f8ab9789d10>"
      ]
     },
     "metadata": {},
     "output_type": "display_data"
    }
   ],
   "source": [
    "from cs231n.vis_utils import visualize_grid\n",
    "\n",
    "grid = visualize_grid(best_model['W1'].transpose(0, 2, 3, 1))\n",
    "plt.imshow(grid.astype('uint8'))"
   ]
  },
  {
   "cell_type": "markdown",
   "metadata": {},
   "source": [
    "# Experiment!\n",
    "Experiment and try to get the best performance that you can on CIFAR-10 using a ConvNet. Here are some ideas to get you started:\n",
    "\n",
    "### Things you should try:\n",
    "- Filter size: Above we used 7x7; this makes pretty pictures but smaller filters may be more efficient\n",
    "- Number of filters: Above we used 32 filters. Do more or fewer do better?\n",
    "- Network depth: The network above has two layers of trainable parameters. Can you do better with a deeper network? You can implement alternative architectures in the file `cs231n/classifiers/convnet.py`. Some good architectures to try include:\n",
    "    - [conv-relu-pool]xN - conv - relu - [affine]xM - [softmax or SVM]\n",
    "    - [conv-relu-pool]XN - [affine]XM - [softmax or SVM]\n",
    "    - [conv-relu-conv-relu-pool]xN - [affine]xM - [softmax or SVM]\n",
    "\n",
    "### Tips for training\n",
    "For each network architecture that you try, you should tune the learning rate and regularization strength. When doing this there are a couple important things to keep in mind:\n",
    "\n",
    "- If the parameters are working well, you should see improvement within a few hundred iterations\n",
    "- Remember the course-to-fine approach for hyperparameter tuning: start by testing a large range of hyperparameters for just a few training iterations to find the combinations of parameters that are working at all.\n",
    "- Once you have found some sets of parameters that seem to work, search more finely around these parameters. You may need to train for more epochs.\n",
    "\n",
    "### Going above and beyond\n",
    "If you are feeling adventurous there are many other features you can implement to try and improve your performance. You are **not required** to implement any of these; however they would be good things to try for extra credit.\n",
    "\n",
    "- Alternative update steps: For the assignment we implemented SGD+momentum and RMSprop; you could try alternatives like AdaGrad or AdaDelta.\n",
    "- Other forms of regularization such as L1 or Dropout\n",
    "- Alternative activation functions such as leaky ReLU or maxout\n",
    "- Model ensembles\n",
    "- Data augmentation\n",
    "\n",
    "### What we expect\n",
    "At the very least, you should be able to train a ConvNet that gets at least 65% accuracy on the validation set. This is just a lower bound - if you are careful it should be possible to get accuracies much higher than that! Extra credit points will be awarded for particularly high-scoring models or unique approaches.\n",
    "\n",
    "You should use the space below to experiment and train your network. The final cell in this notebook should contain the training, validation, and test set accuracies for your final trained network. In this notebook you should also write an explanation of what you did, any additional features that you implemented, and any visualizations or graphs that you make in the process of training and evaluating your network.\n",
    "\n",
    "Have fun and happy training!"
   ]
  },
  {
   "cell_type": "code",
   "execution_count": null,
   "metadata": {
    "collapsed": false
   },
   "outputs": [],
   "source": [
    "# TODO: Train a ConvNet to do really well on CIFAR-10!"
   ]
  }
 ],
 "metadata": {
  "kernelspec": {
   "display_name": "Python 2",
   "language": "python",
   "name": "python2"
  },
  "language_info": {
   "codemirror_mode": {
    "name": "ipython",
    "version": 2
   },
   "file_extension": ".py",
   "mimetype": "text/x-python",
   "name": "python",
   "nbconvert_exporter": "python",
   "pygments_lexer": "ipython2",
   "version": "2.7.11"
  }
 },
 "nbformat": 4,
 "nbformat_minor": 0
}
